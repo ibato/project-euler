{
  "nbformat": 4,
  "nbformat_minor": 0,
  "metadata": {
    "colab": {
      "name": "project-euler-003.ipynb",
      "version": "0.3.2",
      "provenance": [],
      "collapsed_sections": []
    },
    "kernelspec": {
      "name": "python3",
      "display_name": "Python 3"
    }
  },
  "cells": [
    {
      "cell_type": "markdown",
      "metadata": {
        "id": "bsTcYTaLJVd5",
        "colab_type": "text"
      },
      "source": [
        "## Largest prime factor\n",
        "https://projecteuler.net/problem=3\n",
        "\n",
        "> The prime factors of 13195 are 5, 7, 13 and 29.\n",
        "> \n",
        "> What is the largest prime factor of the number 600851475143 ?"
      ]
    },
    {
      "cell_type": "markdown",
      "metadata": {
        "id": "Bu6m77-LLokI",
        "colab_type": "text"
      },
      "source": [
        "## First Approach - Test all numbers\n",
        "I tested all numbers whether that is the prime factor or not and acquire the largest of them."
      ]
    },
    {
      "cell_type": "code",
      "metadata": {
        "id": "vQSW6YVCMYkS",
        "colab_type": "code",
        "colab": {
          "base_uri": "https://localhost:8080/",
          "height": 34
        },
        "outputId": "a659ae13-fa2a-4b3f-ffc9-eff75219da7e"
      },
      "source": [
        "from time import time\n",
        "from math import sqrt\n",
        "\n",
        "def solve_1():\n",
        "  n = 600851475143\n",
        "  answer = 0\n",
        "  for i in range(int(sqrt(n)), 2, -1):\n",
        "    if is_prime(i) and n % i == 0:\n",
        "      answer = i\n",
        "      break\n",
        "  return answer\n",
        "  \n",
        "def is_prime(n):\n",
        "  if n <= 1:\n",
        "    return False\n",
        "  if n != 2 and n % 2 == 0:\n",
        "    return False\n",
        "  for i in range(3, int(sqrt(n)) + 1, 2):\n",
        "    if n % i == 0:\n",
        "      return False\n",
        "  return True\n",
        "\n",
        "if __name__ == \"__main__\":\n",
        "  start = time()\n",
        "  print(solve_1(), time() - start)"
      ],
      "execution_count": 1,
      "outputs": [
        {
          "output_type": "stream",
          "text": [
            "6857 2.37202787399292\n"
          ],
          "name": "stdout"
        }
      ]
    },
    {
      "cell_type": "markdown",
      "metadata": {
        "id": "-nSJcGekvTlJ",
        "colab_type": "text"
      },
      "source": [
        "## Second Approach - Test the numbers ended with 1, 3, 7, 9 only\n",
        "All factors are ended with 1, 3, 7 and 9 since the number 600851475143 isn't divided by 2 and 5. Even multiples of 2 and 5 are not prime except for 2. \n",
        "\n",
        "There is no significant difference in execution time compared to the first approach."
      ]
    },
    {
      "cell_type": "code",
      "metadata": {
        "id": "wMNGqLtvyRXW",
        "colab_type": "code",
        "colab": {
          "base_uri": "https://localhost:8080/",
          "height": 34
        },
        "outputId": "e299af38-9bba-4a53-cef2-63bdfed7c440"
      },
      "source": [
        "def solve_2():\n",
        "  n = 600851475143\n",
        "  answer = 0\n",
        "  for i in range(int(sqrt(n)), 2, -1):\n",
        "    if i % 2 == 0 or i % 5 == 0:\n",
        "      continue\n",
        "    if is_prime(i) == True and n % i == 0:\n",
        "      answer = i\n",
        "      break\n",
        "  return answer\n",
        "\n",
        "if __name__ == \"__main__\":\n",
        "  start = time()\n",
        "  print(solve_2(), time() - start)"
      ],
      "execution_count": 2,
      "outputs": [
        {
          "output_type": "stream",
          "text": [
            "6857 2.291947364807129\n"
          ],
          "name": "stdout"
        }
      ]
    },
    {
      "cell_type": "markdown",
      "metadata": {
        "id": "NNiMar-f4SkT",
        "colab_type": "text"
      },
      "source": [
        "## Third Approach - Make the number to get smaller by dividing it\n",
        "My is_prime method is $O(\\sqrt{n})$, so this is much faster to divide the numbers directly and make it smaller and smaller."
      ]
    },
    {
      "cell_type": "code",
      "metadata": {
        "id": "eQEGwcYn1Chy",
        "colab_type": "code",
        "colab": {
          "base_uri": "https://localhost:8080/",
          "height": 34
        },
        "outputId": "807d8e0b-eec1-467c-f929-721000f9f359"
      },
      "source": [
        "def solve_3():\n",
        "  n = 600851475143\n",
        "  answer = 0\n",
        "  for i in range(3, int(sqrt(n)), 2):\n",
        "    if n % i == 0:\n",
        "      answer = i\n",
        "      n = n / i\n",
        "      i = i - 2\n",
        "  return answer\n",
        "\n",
        "if __name__ == \"__main__\":\n",
        "  start = time()\n",
        "  print(solve_3(), time() - start)"
      ],
      "execution_count": 3,
      "outputs": [
        {
          "output_type": "stream",
          "text": [
            "6857 0.03188514709472656\n"
          ],
          "name": "stdout"
        }
      ]
    }
  ]
}
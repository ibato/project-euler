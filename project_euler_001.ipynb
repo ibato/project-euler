{
  "nbformat": 4,
  "nbformat_minor": 0,
  "metadata": {
    "colab": {
      "name": "project-euler-001.ipynb",
      "version": "0.3.2",
      "provenance": [],
      "collapsed_sections": []
    },
    "kernelspec": {
      "name": "python3",
      "display_name": "Python 3"
    }
  },
  "cells": [
    {
      "cell_type": "markdown",
      "metadata": {
        "id": "g0azswQ8QS9D",
        "colab_type": "text"
      },
      "source": [
        "## Multiples of 3 and 5\n",
        "https://projecteuler.net/problem=1\n",
        "\n",
        "> If we list all the natural numbers below 10 that are multiples of 3 or 5, we get 3, 5, 6 and 9. The sum of these multiples is 23.\n",
        "> Find the sum of all the multiples of 3 or 5 below 1000."
      ]
    },
    {
      "cell_type": "code",
      "metadata": {
        "id": "-bHGMjJAQM8_",
        "colab_type": "code",
        "outputId": "5d9b0454-8ce9-4e52-b52f-987318d5b109",
        "colab": {
          "base_uri": "https://localhost:8080/",
          "height": 34
        }
      },
      "source": [
        "from time import time\n",
        "\n",
        "def solve():\n",
        "  return sum(filter(lambda x: x % 3 == 0 or x % 5 == 0, range(1, 1000)))\n",
        "  \n",
        "if __name__ == \"__main__\":\n",
        "  start = time()\n",
        "  print(solve(), time() - start)"
      ],
      "execution_count": 0,
      "outputs": [
        {
          "output_type": "stream",
          "text": [
            "233168 0.0002033710479736328\n"
          ],
          "name": "stdout"
        }
      ]
    },
    {
      "cell_type": "markdown",
      "metadata": {
        "id": "w86VREexQLte",
        "colab_type": "text"
      },
      "source": [
        ""
      ]
    }
  ]
}